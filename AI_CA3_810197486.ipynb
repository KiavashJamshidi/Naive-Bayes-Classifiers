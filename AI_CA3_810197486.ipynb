{
 "cells": [
  {
   "cell_type": "markdown",
   "metadata": {},
   "source": [
    "<h2> AI CA3 <br/><br/>\n",
    "Naive Bayes Classifiers<br/><br/>\n",
    " Kiavash jamshidi 810197486 </h2>"
   ]
  },
  {
   "cell_type": "markdown",
   "metadata": {},
   "source": [
    "<strong>by reading the comment train file, we calculate the probability of each word and divide them into 6 categories. then by doing the same for books in test file and using bayes rule to find out which category it is.\n",
    "</strong>\n"
   ]
  },
  {
   "cell_type": "code",
   "execution_count": 1,
   "metadata": {},
   "outputs": [],
   "source": [
    "from hazm import *\n",
    "import csv\n",
    "import math\n",
    "import time\n",
    "import matplotlib.pyplot as plt\n",
    "from operator import itemgetter"
   ]
  },
  {
   "cell_type": "markdown",
   "metadata": {},
   "source": [
    "<h2> Q1 </h2> <br/>\n",
    "stem : در این روش اگر کلمه ای به صورت جمع باشد مفرد آنرا بر میگرداند. به عبارتی دیگر 'ها' و 'ان' و 'ات' آخر آنرا می \n",
    "اندازد<br/>\n",
    "lemmatize : در این روش ریشه کلمه بدست می آید. برای مثال اگر به آن 'تحقیقی' بدهیم 'تحقیق' بر میگرداند <br/>\n",
    "من از روش دوم استفاده کردم"
   ]
  },
  {
   "cell_type": "markdown",
   "metadata": {},
   "source": [
    "<h2> Q2 </h2> <br/>\n",
    "posterior : اگر این مجموعه از لغات را داشته باشیم احتمال آن که موضوع این کتاب ایکس باشد چقدر است<br/>\n",
    "likelihood : اگر بدانیم موضوع کتاب ایکس است احتمال آنکه این مجموعه از لغات در آن باشند چقدر است <br/>\n",
    "prior : احتمال آنکه این کتاب  موضوع ایکس را داشته باشد جقدر است ( در این بروژه احتمال همه آنها یکسان است )<br/>\n",
    "evidence : احتمال این که این لغات اتفاق بیفتند جقدر است ( چون کلمات کتاب یکی است می توانیم آنرا نادیده بگیریم )"
   ]
  },
  {
   "cell_type": "markdown",
   "metadata": {},
   "source": [
    "<h2> Q3 </h2> <br/>\n",
    "من شیر آب را باز کردم <br/>\n",
    "من شیر وحشی را دیدم <br/> <br/>\n",
    "biagram <br/>\n",
    "به ما کمک میکند و عبارات 'شیر وحشی' و 'شیر آب' را از هم جدا می کند و کلمه شیر در آن با هم فرق میکنند. در این مثال خاص <br/>\n",
    "n-gram <br/>\n",
    "کمکی به ما نمیکند اما در خیلی از عبارات ما به بیشتر از ۲ کلمه نیاز داریم"
   ]
  },
  {
   "cell_type": "markdown",
   "metadata": {},
   "source": [
    "<h2> Q4 </h2> <br/>\n",
    "چون که کلمه جامعه که مثال آورده شده است به جمله آن بستگی دارد. ما چون<br/> \n",
    "bag of words <br/>\n",
    "در نظر میگیریم باعث می شود که به جمله کاری نداشته باشیم و فقط به خود کلمه توجه کنیم که باعث همین مشکل می شود"
   ]
  },
  {
   "cell_type": "markdown",
   "metadata": {},
   "source": [
    "<h2> Q5 </h2> <br/>\n",
    "اگر به کلمه ای رسیدیم که در دسته وجود نداشته باشد احتمال آنرا یک برروی تعداد کلمات داخل آن دسته قرار میدهیم و به بقیه کلماتی که در آن دسته وجود دارند بعد از <br/> train <br/>\n",
    "به همه آنها یک واحد اضافه میکنیم"
   ]
  },
  {
   "cell_type": "code",
   "execution_count": 2,
   "metadata": {},
   "outputs": [],
   "source": [
    "AdditiveSmoothing = True"
   ]
  },
  {
   "cell_type": "code",
   "execution_count": 3,
   "metadata": {},
   "outputs": [
    {
     "name": "stdout",
     "output_type": "stream",
     "text": [
      "Training data...\n",
      "Testing data...\n",
      "Final accuracy is 82%\n",
      "\n",
      "Final precision for جامعه‌شناسی category is 79%\n",
      "Final recall for جامعه‌شناسی category is 88%\n",
      "Final F1 for جامعه‌شناسی category is 84%\n",
      "\n",
      "Final precision for کلیات اسلام category is 92%\n",
      "Final recall for کلیات اسلام category is 86%\n",
      "Final F1 for کلیات اسلام category is 89%\n",
      "\n",
      "Final precision for داستان کودک و نوجوانان category is 77%\n",
      "Final recall for داستان کودک و نوجوانان category is 87%\n",
      "Final F1 for داستان کودک و نوجوانان category is 82%\n",
      "\n",
      "Final precision for داستان کوتاه category is 70%\n",
      "Final recall for داستان کوتاه category is 74%\n",
      "Final F1 for داستان کوتاه category is 72%\n",
      "\n",
      "Final precision for مدیریت و کسب و کار category is 92%\n",
      "Final recall for مدیریت و کسب و کار category is 92%\n",
      "Final F1 for مدیریت و کسب و کار category is 92%\n",
      "\n",
      "Final precision for رمان category is 85%\n",
      "Final recall for رمان category is 64%\n",
      "Final F1 for رمان category is 73%\n",
      "\n",
      "Time is 58.45sec\n"
     ]
    }
   ],
   "source": [
    "tagger = POSTagger(model='resources/postagger.model')\n",
    "basedForm = Lemmatizer()\n",
    "stopWordsDict = {stop : None for stop in stopwords_list()}\n",
    "categoryNumOfWords, categoryWords = {}, {}\n",
    "allDetectedClasses = {}\n",
    "totalClasses = {}\n",
    "correctClasses = {}\n",
    "FOne = {}\n",
    "\n",
    "def thisWordIsTrash(word):\n",
    "    return word[0] in stopWordsDict or basedForm.lemmatize(word[0]) in stopWordsDict \\\n",
    "        or word[1] == 'PUNC' or word[1] == 'P' \\\n",
    "        or word[1] == 'ADV' or word[1] == 'CONJ' or word[1] == 'DET' \\\n",
    "        or word[1] == 'Pe' or word[1] == 'PRO' or word[1] == 'POSTP'\n",
    "\n",
    "def numOfWordsInTwoCol(row):\n",
    "    words = tagger.tag(word_tokenize(row[0] + ' ' + row[1]))\n",
    "    return len(words)\n",
    "\n",
    "def getBaseformOfWord(word):\n",
    "    baseFormOfWord = basedForm.lemmatize(word[0]).split('#')[0]\n",
    "    return baseFormOfWord\n",
    "\n",
    "def makeCategories(csvFileRead):\n",
    "    for row in csvFileRead:\n",
    "        n = numOfWordsInTwoCol(row)\n",
    "        if row[2] in categoryNumOfWords:\n",
    "            categoryNumOfWords[row[2]] += n\n",
    "        else:\n",
    "            categoryNumOfWords[row[2]] = n\n",
    "\n",
    "        if row[2] not in categoryWords:\n",
    "            categoryWords[row[2]] = {}\n",
    "            allDetectedClasses[row[2]] = 0\n",
    "            totalClasses[row[2]] = 0\n",
    "            correctClasses[row[2]] = 0\n",
    "\n",
    "def trainData(csvFileRead):\n",
    "    for row in csvFileRead:\n",
    "        words = row[0] + ' ' + row[1]\n",
    "        words = tagger.tag(word_tokenize(words))\n",
    "        for word in words:\n",
    "            if thisWordIsTrash(word): continue\n",
    "            baseFormOfWord = getBaseformOfWord(word)\n",
    "\n",
    "            if baseFormOfWord in categoryWords[row[2]]:\n",
    "                categoryWords[row[2]][baseFormOfWord] += 1\n",
    "            else:\n",
    "                categoryWords[row[2]][baseFormOfWord] = 1.5\n",
    "      \n",
    "    for cat in categoryWords:\n",
    "        l = len(categoryWords[cat])\n",
    "        for word in categoryWords[cat]:\n",
    "            categoryWords[cat][word] = categoryWords[cat][word] / (categoryNumOfWords[cat] + l)\n",
    "    \n",
    "\n",
    "def updateFinalResult(result,maximum,finalCat,cat):\n",
    "    if result > maximum:\n",
    "        maximum = result\n",
    "        finalCat = cat\n",
    "    return maximum, finalCat\n",
    "\n",
    "def showAccuracy(accuracy,numOfRow):\n",
    "    print(\"Final accuracy is {}%\".format(math.ceil((accuracy / numOfRow) * 100)))\n",
    "    print()\n",
    "    for cat in correctClasses:\n",
    "        precision = correctClasses[cat] / allDetectedClasses[cat]\n",
    "        print(\"Final precision for {} category is {}%\".format(cat,math.ceil((correctClasses[cat] / allDetectedClasses[cat]) * 100)))\n",
    "        recall = correctClasses[cat] / totalClasses[cat]\n",
    "        print(\"Final recall for {} category is {}%\".format(cat,math.ceil((correctClasses[cat] / totalClasses[cat]) * 100)))\n",
    "        print(\"Final F1 for {} category is {}%\".format(cat,math.ceil((2 * recall * precision / (recall + precision)) * 100)))\n",
    "        print()\n",
    "\n",
    "\n",
    "def showPlot(i):\n",
    "    tmp = 0\n",
    "    for cat in categoryWords:\n",
    "        if tmp < i: \n",
    "            tmp += 1\n",
    "            continue\n",
    "        if tmp > i: break\n",
    "        \n",
    "        res = dict(sorted(categoryWords[cat].items(), key = itemgetter(1))[::-1][:5])\n",
    "        plt.title(cat[::-1])\n",
    "        resKeysLst = list(res.keys())\n",
    "        for r in range(len(resKeysLst)):\n",
    "            resKeysLst[r] = resKeysLst[r][::-1]\n",
    "        plt.bar(resKeysLst,res.values())\n",
    "        print(cat)\n",
    "        tmp += 1\n",
    "        \n",
    "\n",
    "def testNewData(csvFileRead,numOfRow,accuracy):\n",
    "    i = 0\n",
    "    for row in csvFileRead:\n",
    "        numOfRow += 1\n",
    "        \n",
    "        content = tagger.tag(word_tokenize(row[0] + ' ' + row[1]))\n",
    "        maximum = float('-inf')\n",
    "        finalCat = \"\"\n",
    "\n",
    "        for cat in categoryWords:\n",
    "            result = 0\n",
    "            for word in content:\n",
    "                if thisWordIsTrash(word): continue\n",
    "                baseFormOfWord = getBaseformOfWord(word)\n",
    "\n",
    "                if baseFormOfWord in categoryWords[cat]:\n",
    "                    result += math.log10(categoryWords[cat][baseFormOfWord])\n",
    "                else:\n",
    "                    l = len(categoryWords[cat])\n",
    "                    i += 1\n",
    "                    if AdditiveSmoothing: result += math.log10(0.5/(categoryNumOfWords[cat] + l + i))\n",
    "                    else: result += -100000\n",
    "                    \n",
    "            maximum, finalCat = updateFinalResult(result,maximum,finalCat,cat)\n",
    "        if finalCat == row[2]: \n",
    "            accuracy += 1\n",
    "            correctClasses[finalCat] += 1\n",
    "        allDetectedClasses[finalCat] += 1\n",
    "        totalClasses[row[2]] += 1\n",
    "    return accuracy, numOfRow\n",
    "\n",
    "def readCsv(csvfile):\n",
    "    csvFileRead = csv.reader(csvfile, delimiter=',')\n",
    "    next(csvFileRead, None)\n",
    "    csvFileRead = list(csvFileRead)\n",
    "    return csvFileRead\n",
    "\n",
    "if __name__ == '__main__':\n",
    "    t1 = time.time()\n",
    "    accuracy, numOfRow = 0, 0\n",
    "\n",
    "    fileTrainCsv = 'books_dataset/books_train.csv'\n",
    "    with open(fileTrainCsv, newline='') as csvfile:\n",
    "        print(\"Training data...\")\n",
    "        csvFileRead = readCsv(csvfile)\n",
    "        makeCategories(csvFileRead) \n",
    "        trainData(csvFileRead)\n",
    "\n",
    "    fileTestCsv = 'books_dataset/books_test.csv'\n",
    "    with open(fileTestCsv, newline='') as csvfile:\n",
    "        print(\"Testing data...\")\n",
    "        csvFileRead = readCsv(csvfile)\n",
    "        accuracy, numOfRow = testNewData(csvFileRead,numOfRow,accuracy)\n",
    "\n",
    "    showAccuracy(accuracy,numOfRow)\n",
    "    print(\"Time is {}sec\".format(round(time.time() - t1,2)))\n",
    "\n"
   ]
  },
  {
   "cell_type": "code",
   "execution_count": 4,
   "metadata": {},
   "outputs": [
    {
     "name": "stdout",
     "output_type": "stream",
     "text": [
      "جامعه‌شناسی\n"
     ]
    },
    {
     "data": {
      "image/png": "[encoded data removed]",
      "text/plain": [
       "<Figure size 432x288 with 1 Axes>"
      ]
     },
     "metadata": {
      "needs_background": "light"
     },
     "output_type": "display_data"
    }
   ],
   "source": [
    "    i = 0\n",
    "    showPlot(i)\n",
    "    i += 1"
   ]
  },
  {
   "cell_type": "markdown",
   "metadata": {},
   "source": [
    "<h2> Q6 </h2> <br/>\n",
    "در جامعه شناسی کلمات کتاب و اجتماع و فرهنگی و ایران و رسانه بیشترین تکرار را داشتند"
   ]
  },
  {
   "cell_type": "code",
   "execution_count": 5,
   "metadata": {},
   "outputs": [
    {
     "name": "stdout",
     "output_type": "stream",
     "text": [
      "کلیات اسلام\n"
     ]
    },
    {
     "data": {
      "image/png": "[encoded data removed]",
      "text/plain": [
       "<Figure size 432x288 with 1 Axes>"
      ]
     },
     "metadata": {
      "needs_background": "light"
     },
     "output_type": "display_data"
    }
   ],
   "source": [
    "    showPlot(i)\n",
    "    i += 1"
   ]
  },
  {
   "cell_type": "markdown",
   "metadata": {},
   "source": [
    "<h2> Q6 </h2> <br/>\n",
    "در کلیات اسلام کلمات کتاب و اسلام و قرآن و دین و حضرت بیشترین تکرار را داشتند"
   ]
  },
  {
   "cell_type": "code",
   "execution_count": 6,
   "metadata": {},
   "outputs": [
    {
     "name": "stdout",
     "output_type": "stream",
     "text": [
      "داستان کودک و نوجوانان\n"
     ]
    },
    {
     "data": {
      "image/png": "[encoded data removed]",
      "text/plain": [
       "<Figure size 432x288 with 1 Axes>"
      ]
     },
     "metadata": {
      "needs_background": "light"
     },
     "output_type": "display_data"
    }
   ],
   "source": [
    "    showPlot(i)\n",
    "    i += 1"
   ]
  },
  {
   "cell_type": "markdown",
   "metadata": {},
   "source": [
    "<h2> Q6 </h2> <br/>\n",
    "در داستان کودک و نوجوان کلمات داستان و کتاب و کودک و مجموعه و زندگی بیشترین تکرار را داشتند"
   ]
  },
  {
   "cell_type": "code",
   "execution_count": 7,
   "metadata": {},
   "outputs": [
    {
     "name": "stdout",
     "output_type": "stream",
     "text": [
      "داستان کوتاه\n"
     ]
    },
    {
     "data": {
      "image/png": "[encoded data removed]",
      "text/plain": [
       "<Figure size 432x288 with 1 Axes>"
      ]
     },
     "metadata": {
      "needs_background": "light"
     },
     "output_type": "display_data"
    }
   ],
   "source": [
    "    showPlot(i)\n",
    "    i += 1"
   ]
  },
  {
   "cell_type": "markdown",
   "metadata": {},
   "source": [
    "<h2> Q6 </h2> <br/>\n",
    "در داستان کوتاه کلمات داستان و کتاب و مجموعه و کوتاه و نویسنده بیشترین تکرار را داشتند"
   ]
  },
  {
   "cell_type": "code",
   "execution_count": 8,
   "metadata": {},
   "outputs": [
    {
     "name": "stdout",
     "output_type": "stream",
     "text": [
      "مدیریت و کسب و کار\n"
     ]
    },
    {
     "data": {
      "image/png": "[encoded data removed]",
      "text/plain": [
       "<Figure size 432x288 with 1 Axes>"
      ]
     },
     "metadata": {
      "needs_background": "light"
     },
     "output_type": "display_data"
    }
   ],
   "source": [
    "    showPlot(i)\n",
    "    i += 1"
   ]
  },
  {
   "cell_type": "markdown",
   "metadata": {},
   "source": [
    "<h2> Q6 </h2> <br/>\n",
    "در مدیری کسب و کار کلمات کتاب و کار و مدیریت و موفقیت و زندگی بیشترین تکرار را داشتند"
   ]
  },
  {
   "cell_type": "code",
   "execution_count": 9,
   "metadata": {},
   "outputs": [
    {
     "name": "stdout",
     "output_type": "stream",
     "text": [
      "رمان\n"
     ]
    },
    {
     "data": {
      "image/png": "[encoded data removed]",
      "text/plain": [
       "<Figure size 432x288 with 1 Axes>"
      ]
     },
     "metadata": {
      "needs_background": "light"
     },
     "output_type": "display_data"
    }
   ],
   "source": [
    "    showPlot(i)\n",
    "    i += 1"
   ]
  },
  {
   "cell_type": "markdown",
   "metadata": {},
   "source": [
    "<h2> Q6 </h2> <br/>\n",
    "در رمان کلمات داستان و کتاب و رمان و زندگی و نویسنده بیشترین تکرار را داشتند"
   ]
  },
  {
   "cell_type": "markdown",
   "metadata": {},
   "source": [
    "<h2> Q7 </h2> <br/>\n",
    "چون ممکن است بعضی از آنها <br/> precision <br/> \n",
    "صد درصد داشته باشند اما <br/> recall <br/> \n",
    "خوبی نداشته باشند و همین طور برعکس برای همین به هر دو معیار نیاز داریم برای همین <br/> F1 <br/> \n",
    "را استفاده می کنیم که هر دو معیار را دارد"
   ]
  },
  {
   "cell_type": "markdown",
   "metadata": {},
   "source": [
    "<h2> Q8 </h2> <br/>\n",
    "نسبت به میانگین عادی دقیق تر و نزدیکنر به جواب واقعی است"
   ]
  },
  {
   "cell_type": "markdown",
   "metadata": {},
   "source": [
    "<h2> Q9 </h2> <br/>\n",
    "در <br/> weighted <br/> \n",
    "به هر کدام از <br/> F1 <br/>\n",
    "ها یک وزن متناسب می دهیم. <br/> \n",
    "To calculate the micro-F1, we first compute micro-averaged precision and micro-averaged recall over all the samples , and then combine the two. <br/>\n",
    "در <br/> macro <br/> \n",
    "نیز هم بین همه <br/> F1 <br/> \n",
    "ها میانگیم کلی میگیریم"
   ]
  },
  {
   "cell_type": "markdown",
   "metadata": {},
   "source": [
    "<h2> Q10 </h2> <br/>\n",
    "در بالای کد اگر میخواهید مقدار بدون <br/>\n",
    "additive smoothing <br/>\n",
    "را ببینید آنرا برابر <br/>\n",
    "false <br/> قرار دهید"
   ]
  },
  {
   "cell_type": "markdown",
   "metadata": {},
   "source": [
    "<h2> Q11 </h2> <br/>\n",
    "بدون استفاده از این روش همه این مقادیر درصد کمتری می گیرند چون دقت کمتری دارند"
   ]
  },
  {
   "cell_type": "markdown",
   "metadata": {},
   "source": [
    "<h2> Q12 </h2> <br/>\n",
    "در همه موضوعات من مواردی را اشتباه داشتم. احتمالا به چند دلیل است. یک اینکه ما <br/>\n",
    "bag of words <br/> \n",
    "میگیریم در حالی که باید به جمله هم توجه کنیم. ۲ به این دلیل است که کلمات پرتکرار که در تمام موضوعات هستند را حذف نکردم. ۳ آن که ممکن است مقدار دیفالت برای <br/> additive smoothing <br/> \n",
    "را بهتر میتوانستم بدهم"
   ]
  }
 ],
 "metadata": {
  "kernelspec": {
   "display_name": "Python 3",
   "language": "python",
   "name": "python3"
  },
  "language_info": {
   "codemirror_mode": {
    "name": "ipython",
    "version": 3
   },
   "file_extension": ".py",
   "mimetype": "text/x-python",
   "name": "python",
   "nbconvert_exporter": "python",
   "pygments_lexer": "ipython3",
   "version": "3.8.5"
  }
 },
 "nbformat": 4,
 "nbformat_minor": 4
}
